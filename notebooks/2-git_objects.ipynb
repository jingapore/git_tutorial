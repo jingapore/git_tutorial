{
 "cells": [
  {
   "cell_type": "markdown",
   "metadata": {},
   "source": [
    "# Objective\n",
    "Get comfortable with git-objects. Tutorial adapted heavily from [here](https://book.git-scm.com/book/en/v2/Git-Internals-Git-Objects).\n",
    "\n",
    "At the end of this, you should be able to answer:\n",
    "1. What is a blob?\n",
    "2. What is a tree?\n",
    "3. What is a commit?\n",
    "\n",
    "You should be able to describe the lower-level procedures, that underpin:\n",
    "- `git add`\n",
    "- `git commit -m`\n",
    "\n",
    "We will also cover `git stash`."
   ]
  },
  {
   "cell_type": "markdown",
   "metadata": {},
   "source": [
    "First, let's check what working directory we are in."
   ]
  },
  {
   "cell_type": "code",
   "execution_count": null,
   "metadata": {},
   "outputs": [],
   "source": [
    "%%bash\n",
    "echo $PWD"
   ]
  },
  {
   "cell_type": "markdown",
   "metadata": {},
   "source": [
    "We set `/home/jovyan/notebooks/mock_repo` as the default directory."
   ]
  },
  {
   "cell_type": "code",
   "execution_count": null,
   "metadata": {},
   "outputs": [],
   "source": [
    "%cd /home/jovyan/notebooks/mock_repo"
   ]
  },
  {
   "cell_type": "code",
   "execution_count": null,
   "metadata": {},
   "outputs": [],
   "source": [
    "%%bash\n",
    "echo $PWD"
   ]
  },
  {
   "cell_type": "markdown",
   "metadata": {},
   "source": [
    "# Creating git object out of thin air"
   ]
  },
  {
   "cell_type": "markdown",
   "metadata": {},
   "source": [
    "Following comment pipes 'test content' to the command `git hash-object -w --stdin`. (The `|` in command line is a pipe.)\n",
    "\n",
    "This creates a Git object, that we can see using the command `find .git/objects -type f` or just by cd-ing to the `.git/objects` directory and taking a look ourselves."
   ]
  },
  {
   "cell_type": "code",
   "execution_count": null,
   "metadata": {},
   "outputs": [],
   "source": [
    "%%bash\n",
    "echo 'test content' | git hash-object -w --stdin"
   ]
  },
  {
   "cell_type": "code",
   "execution_count": null,
   "metadata": {},
   "outputs": [],
   "source": [
    "%%bash\n",
    "cd .git/objects\n",
    "ls -la"
   ]
  },
  {
   "cell_type": "markdown",
   "metadata": {},
   "source": [
    "Ah, it looks like there is a sub-diretory called `d6`. This is where objects with hashes starting with 'd6' go to. Let's check out this directory."
   ]
  },
  {
   "cell_type": "code",
   "execution_count": null,
   "metadata": {},
   "outputs": [],
   "source": [
    "%%bash\n",
    "cd .git/objects/d6\n",
    "ls -la"
   ]
  },
  {
   "cell_type": "code",
   "execution_count": null,
   "metadata": {},
   "outputs": [],
   "source": [
    "%%bash\n",
    "cd .git/objects/d6\n",
    "ls -la | awk 'FNR == 4{a=\"d6\"$NF; print a}'"
   ]
  },
  {
   "cell_type": "markdown",
   "metadata": {},
   "source": [
    "**git cat-file**<br>\n",
    "So we see the output of the hash. We feed this command into `git cat-file`. What `git cat-file` does, is to take the hash of a git object, and print its contents. `-p` is a flag specifying pretty-print, and allows us to cat-file without setting the object type.\n",
    "\n",
    "An alternative command without the flag `-p` is:\n",
    "`git cat-file blob d670460b4b4aece5915caf5c68d12f560a9fe3e4`\n",
    "\n",
    "**awk**<br>\n",
    "As an aide, awk is a useful tool to parse text.\n",
    "- `FNR` stands for record number (i.e. the line) in the current file.\n",
    "- `NF` is the number of fields, where fields represent the columns. So, `$NF` prints the 9th column of the `ls -la` output. If we want the 8th column, we go with `$8`\n",
    "- So, we are taking the 4th record (i.e. the 4th line), and the last field of that line."
   ]
  },
  {
   "cell_type": "code",
   "execution_count": null,
   "metadata": {},
   "outputs": [],
   "source": [
    "%%bash\n",
    "cd .git/objects/d6\n",
    "git cat-file -p $(ls -la | awk 'FNR == 4{a=\"d6\"$NF; print a}')"
   ]
  },
  {
   "cell_type": "markdown",
   "metadata": {},
   "source": [
    "This is the simpler way, involving just copy-and-pasting. But it's useful to know your way around the command line."
   ]
  },
  {
   "cell_type": "code",
   "execution_count": null,
   "metadata": {},
   "outputs": [],
   "source": [
    "%%bash\n",
    "git cat-file -p d670460b4b4aece5915caf5c68d12f560a9fe3e4"
   ]
  },
  {
   "cell_type": "markdown",
   "metadata": {},
   "source": [
    "Taking a step back, we see that our working directory is empty. But we have a blob in `.git/objects/`. Why is this the case?"
   ]
  },
  {
   "cell_type": "code",
   "execution_count": null,
   "metadata": {},
   "outputs": [],
   "source": [
    "%%bash\n",
    "echo $PWD\n",
    "ls -la"
   ]
  },
  {
   "cell_type": "markdown",
   "metadata": {},
   "source": [
    "What we have done is indeed unusual. We didn't create a file in the working directory, but we created a blob (a type of Git object), by piping a stream of text into the command `git hash-object`.\n",
    "\n",
    "What happens in the more common `git add`, is that prior to including the file in the index (i.e. the file is still in the working directory), the file is not a in the directory `.git/objects/`. But the moment we add the file to the index, the file content exists in two places: the working directory, and also in `.git/objects/` as a hashed object whose contents are revealed with `git cat-file`."
   ]
  },
  {
   "cell_type": "code",
   "execution_count": null,
   "metadata": {},
   "outputs": [],
   "source": []
  }
 ],
 "metadata": {
  "kernelspec": {
   "display_name": "Python 3",
   "language": "python",
   "name": "python3"
  },
  "language_info": {
   "codemirror_mode": {
    "name": "ipython",
    "version": 3
   },
   "file_extension": ".py",
   "mimetype": "text/x-python",
   "name": "python",
   "nbconvert_exporter": "python",
   "pygments_lexer": "ipython3",
   "version": "3.7.6"
  }
 },
 "nbformat": 4,
 "nbformat_minor": 4
}
