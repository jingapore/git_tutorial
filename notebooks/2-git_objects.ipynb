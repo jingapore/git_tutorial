{
 "cells": [
  {
   "cell_type": "markdown",
   "metadata": {},
   "source": [
    "# Objective\n",
    "Get comfortable with git-objects. Tutorial adapted heavily from [here](https://book.git-scm.com/book/en/v2/Git-Internals-Git-Objects).\n",
    "\n",
    "At the end of this, you should be able to answer:\n",
    "1. What is a blob?\n",
    "2. What is a tree?\n",
    "3. What is a commit?\n",
    "\n",
    "You should be able to describe the lower-level procedures, that underpin:\n",
    "- `git add`\n",
    "- `git commit -m`\n",
    "\n",
    "We will also cover `git stash`."
   ]
  },
  {
   "cell_type": "markdown",
   "metadata": {},
   "source": [
    "First, let's check what working directory we are in."
   ]
  },
  {
   "cell_type": "code",
   "execution_count": 27,
   "metadata": {},
   "outputs": [
    {
     "name": "stdout",
     "output_type": "stream",
     "text": [
      "/mnt/c/Users/jingapore/Desktop/Repos/git_tutorial/notebooks/mock_repo\n"
     ]
    }
   ],
   "source": [
    "%%bash\n",
    "echo $PWD"
   ]
  },
  {
   "cell_type": "code",
   "execution_count": 28,
   "metadata": {},
   "outputs": [
    {
     "name": "stdout",
     "output_type": "stream",
     "text": [
      "[WinError 2] The system cannot find the file specified: 'mock_repo'\n",
      "C:\\Users\\jingapore\\Desktop\\Repos\\git_tutorial\\notebooks\\mock_repo\n"
     ]
    }
   ],
   "source": [
    "%cd mock_repo"
   ]
  },
  {
   "cell_type": "code",
   "execution_count": 29,
   "metadata": {},
   "outputs": [
    {
     "name": "stdout",
     "output_type": "stream",
     "text": [
      "/mnt/c/Users/jingapore/Desktop/Repos/git_tutorial/notebooks/mock_repo\n"
     ]
    }
   ],
   "source": [
    "%%bash\n",
    "echo $PWD"
   ]
  },
  {
   "cell_type": "markdown",
   "metadata": {},
   "source": [
    "# Creating git object out of thin air"
   ]
  },
  {
   "cell_type": "markdown",
   "metadata": {},
   "source": [
    "Following comment pipes 'test content' to the command `git hash-object -w --stdin`. (The `|` in command line is a pipe.)\n",
    "\n",
    "This creates a Git object, that we can see using the command `find .git/objects -type f` or just by cd-ing to the `.git/objects` directory and taking a look ourselves."
   ]
  },
  {
   "cell_type": "code",
   "execution_count": 30,
   "metadata": {},
   "outputs": [
    {
     "name": "stdout",
     "output_type": "stream",
     "text": [
      "d670460b4b4aece5915caf5c68d12f560a9fe3e4\n"
     ]
    }
   ],
   "source": [
    "%%bash\n",
    "echo 'test content' | git hash-object -w --stdin"
   ]
  },
  {
   "cell_type": "code",
   "execution_count": 31,
   "metadata": {},
   "outputs": [
    {
     "name": "stdout",
     "output_type": "stream",
     "text": [
      "total 0\n",
      "drwxrwxrwx 1 jingapore jingapore 4096 Jun 12 10:11 .\n",
      "drwxrwxrwx 1 jingapore jingapore 4096 Jun 12 10:10 ..\n",
      "drwxrwxrwx 1 jingapore jingapore 4096 Jun 12 10:11 d6\n",
      "drwxrwxrwx 1 jingapore jingapore 4096 Jun 12 10:10 info\n",
      "drwxrwxrwx 1 jingapore jingapore 4096 Jun 12 10:10 pack\n"
     ]
    }
   ],
   "source": [
    "%%bash\n",
    "cd .git/objects\n",
    "ls -la"
   ]
  },
  {
   "cell_type": "markdown",
   "metadata": {},
   "source": [
    "Ah, it looks like there is a sub-diretory called `d6`. This is where objects with hashes starting with 'd6' go to. Let's check out this directory."
   ]
  },
  {
   "cell_type": "code",
   "execution_count": 32,
   "metadata": {},
   "outputs": [
    {
     "name": "stdout",
     "output_type": "stream",
     "text": [
      "total 0\n",
      "drwxrwxrwx 1 jingapore jingapore 4096 Jun 12 10:11 .\n",
      "drwxrwxrwx 1 jingapore jingapore 4096 Jun 12 10:11 ..\n",
      "-rwxrwxrwx 1 jingapore jingapore   29 Jun 12 10:11 70460b4b4aece5915caf5c68d12f560a9fe3e4\n"
     ]
    }
   ],
   "source": [
    "%%bash\n",
    "cd .git/objects/d6\n",
    "ls -la"
   ]
  },
  {
   "cell_type": "markdown",
   "metadata": {},
   "source": [
    "Aha! Our file is there. The hash value is truncated by 2 characters. These 2 characters are in the `.git/objects/` sub-directory name, i.e. 'd6'.\n",
    "\n",
    "Now, we see what the contents of the file are."
   ]
  },
  {
   "cell_type": "code",
   "execution_count": 33,
   "metadata": {},
   "outputs": [
    {
     "name": "stdout",
     "output_type": "stream",
     "text": [
      "test content\n"
     ]
    }
   ],
   "source": [
    "%%bash\n",
    "cd .git/objects/d6\n",
    "git cat-file -p $(ls -la | awk 'FNR == 4{a=\"d6\"$NF; print a}')"
   ]
  },
  {
   "cell_type": "markdown",
   "metadata": {},
   "source": [
    "Nothing unexpected. The content is 'test content'.\n",
    "\n",
    "Let's break down what the commands are doing.\n",
    "\n",
    "First, we run the command encapsulated in `$(ls -la | awk ...)`. What this does, is to pipe the output of `ls` (which lists files in directory) to `awk`.\n",
    "\n",
    "Now, what in the world is `awk`?\n",
    "**awk**<br>\n",
    "Awk is a useful tool to parse text.\n",
    "- `FNR` stands for record number (i.e. the line) in the current file.\n",
    "- `NF` is the number of fields, where fields represent the columns. So, `$NF` prints the 9th column of the `ls -la` output. If we want the 8th column, we go with `$8`\n",
    "- So, we are taking the 4th record (i.e. the 4th line), and the last field of that line.\n",
    "\n",
    "Then, we take the output of the command `$(ls -la | awk ...)` as an argument to `git-cat-file`.\n",
    "\n",
    "**git cat-file**<br>\n",
    "So we see the output of the hash. We feed this command into `git cat-file`. What `git cat-file` does, is to take the hash of a git object, and print its contents. `-p` is a flag specifying pretty-print, and allows us to cat-file without setting the object type.\n",
    "\n",
    "An alternative command without the flag `-p` is:\n",
    "`git cat-file blob d670460b4b4aece5915caf5c68d12f560a9fe3e4`"
   ]
  },
  {
   "cell_type": "markdown",
   "metadata": {},
   "source": [
    "This is the simpler way, involving just copy-and-pasting. But it's useful to know your way around the command line with `awk`."
   ]
  },
  {
   "cell_type": "code",
   "execution_count": 34,
   "metadata": {},
   "outputs": [
    {
     "name": "stdout",
     "output_type": "stream",
     "text": [
      "test content\n"
     ]
    }
   ],
   "source": [
    "%%bash\n",
    "git cat-file -p d670460b4b4aece5915caf5c68d12f560a9fe3e4"
   ]
  },
  {
   "cell_type": "markdown",
   "metadata": {},
   "source": [
    "Taking a step back, we see that our working directory is empty. But we have a blob in `.git/objects/`. Why is this the case?"
   ]
  },
  {
   "cell_type": "code",
   "execution_count": 35,
   "metadata": {},
   "outputs": [
    {
     "name": "stdout",
     "output_type": "stream",
     "text": [
      "/mnt/c/Users/jingapore/Desktop/Repos/git_tutorial/notebooks/mock_repo\n",
      "total 0\n",
      "drwxrwxrwx 1 jingapore jingapore 4096 Jun 12 10:10 .\n",
      "drwxrwxrwx 1 jingapore jingapore 4096 Jun 12 10:10 ..\n",
      "drwxrwxrwx 1 jingapore jingapore 4096 Jun 12 10:10 .git\n"
     ]
    }
   ],
   "source": [
    "%%bash\n",
    "echo $PWD\n",
    "ls -la"
   ]
  },
  {
   "cell_type": "markdown",
   "metadata": {},
   "source": [
    "What we have done is indeed unusual. We didn't create a file in the working directory, but we created a blob (a type of Git object), by piping a stream of text into the command `git hash-object`.\n",
    "\n",
    "What happens in the more common `git add`, is that prior to including the file in the index (i.e. the file is still in the working directory), the file is not a in the directory `.git/objects/`. But the moment we add the file to the index, the file content exists in two places: the working directory, and also in `.git/objects/` as a hashed object whose contents are revealed with `git cat-file`."
   ]
  },
  {
   "cell_type": "markdown",
   "metadata": {},
   "source": [
    "# Adding git object to index/staging\n",
    "\n",
    "OK, so that seemed strange. We created a blob in the Git data store, but not in the working directory.\n",
    "\n",
    "Usually, it is the other way around. We create a file in the working directory. Then, we run `git add` which (1) adds the file to the index, and (2) creates a Git object in the Git data store.\n",
    "\n",
    "First, let's get this blob into a file, in the working directory. In the following command, `cat test.txt` outputs content of 'test.txt', and we get the expected content of 'test content'."
   ]
  },
  {
   "cell_type": "code",
   "execution_count": 36,
   "metadata": {},
   "outputs": [
    {
     "name": "stdout",
     "output_type": "stream",
     "text": [
      "total 0\n",
      "drwxrwxrwx 1 jingapore jingapore 4096 Jun 12 10:11 .\n",
      "drwxrwxrwx 1 jingapore jingapore 4096 Jun 12 10:10 ..\n",
      "drwxrwxrwx 1 jingapore jingapore 4096 Jun 12 10:10 .git\n",
      "-rwxrwxrwx 1 jingapore jingapore   13 Jun 12 10:11 test.txt\n",
      "test content\n"
     ]
    }
   ],
   "source": [
    "%%bash\n",
    "git cat-file -p d670460b4b4aece5915caf5c68d12f560a9fe3e4 > test.txt\n",
    "ls -la\n",
    "cat test.txt"
   ]
  },
  {
   "cell_type": "markdown",
   "metadata": {},
   "source": [
    "So, the file contents now exist in two places. First, the Git object store. Second, the working directory.\n",
    "\n",
    "But since we are running lower-level commands here, this file is not registered in the Git index. Let's confirm that\n",
    "1. The Git index is indeed empty, and\n",
    "2. Add this blob into the Git index."
   ]
  },
  {
   "cell_type": "code",
   "execution_count": 37,
   "metadata": {},
   "outputs": [],
   "source": [
    "%%bash\n",
    "git ls-files"
   ]
  },
  {
   "cell_type": "markdown",
   "metadata": {},
   "source": [
    "Note: Above command, i.e. `git ls-files` should not have any output. Because you haven't added your file to the Git index."
   ]
  },
  {
   "cell_type": "code",
   "execution_count": 38,
   "metadata": {},
   "outputs": [],
   "source": [
    "%%bash\n",
    "git update-index --add --cacheinfo 100644 d670460b4b4aece5915caf5c68d12f560a9fe3e4 test.txt"
   ]
  },
  {
   "cell_type": "markdown",
   "metadata": {},
   "source": [
    "Two remarks on the above command `git update-index --add --cacheinfo 100644 d670460b4b4aece5915caf5c68d12f560a9fe3e4 test.txt`.\n",
    "1. When you see 'cache' as an option in git command, you're likely working on the Git index. E.g. `git rm --cached` removes a file not from your working directory, but the Git index.\n",
    "2. The digits '100644' represents file mode. The significant digits are the last 3, in this case '644'. Each digit represents the executable-write-read permissions for the (a) owner, (b) group, (c) public. Each digit represents a binary for 3 permissions (a) executable-write-read.\n",
    "\n",
    "OK, back to business. After we've run `git update-index`, let's see if it is in the index."
   ]
  },
  {
   "cell_type": "code",
   "execution_count": 39,
   "metadata": {},
   "outputs": [
    {
     "name": "stdout",
     "output_type": "stream",
     "text": [
      "test.txt\n"
     ]
    }
   ],
   "source": [
    "%%bash\n",
    "git ls-files"
   ]
  },
  {
   "cell_type": "markdown",
   "metadata": {},
   "source": [
    "For completeness, we take a look at what is in the file `.git/index`. It is gibberish, because it is a binary file containing a sorted list of path names, each with permissions and hash of git objects. `git ls-files` is the human readable way of seeing what is in this file. Stackoverflow answer [here](https://stackoverflow.com/questions/4084921/what-does-the-git-index-contain-exactly)."
   ]
  },
  {
   "cell_type": "code",
   "execution_count": 40,
   "metadata": {},
   "outputs": [
    {
     "name": "stdout",
     "output_type": "stream",
     "text": [
      "DIRC\u0000\u0000\u0000\u0002\u0000\u0000\u0000\u0001\u0000\u0000\u0000\u0000\u0000\u0000\u0000\u0000\u0000\u0000\u0000\u0000\u0000\u0000\u0000\u0000\u0000\u0000\u0000\u0000\u0000\u0000\u0000\u0000\u0000\u0000�¤\u0000\u0000\u0000\u0000\u0000\u0000\u0000\u0000\u0000\u0000\u0000\u0000ÖpF\u000b",
      "KJìå‘\\¯\\hÑ/V\n",
      "Ÿãä\u0000\btest.txt\u0000\u00000¿†’^kÖ¿6þÓ]™÷1n0�\u0004\n"
     ]
    }
   ],
   "source": [
    "%%bash\n",
    "cat .git/index"
   ]
  },
  {
   "cell_type": "markdown",
   "metadata": {},
   "source": [
    "If you see 'test.txt', you've successfully:\n",
    "1. Created a file and written it into the Git object store as a blob with a hash.\n",
    "2. Written that file into the Git index."
   ]
  },
  {
   "cell_type": "markdown",
   "metadata": {},
   "source": [
    "# Exploring tree objects\n",
    "\n",
    "Thus far, we have worked with blobs, a type of Git object. As you may recall from the slides, the tree is another object.\n",
    "\n",
    "Trees have children, which are other trees or blobs. If it is a blob, it terminates there.\n",
    "\n",
    "Commit objects (which we haven't created) point to trees."
   ]
  },
  {
   "cell_type": "code",
   "execution_count": 41,
   "metadata": {},
   "outputs": [
    {
     "name": "stdout",
     "output_type": "stream",
     "text": [
      "80865964295ae2f11d27383e5f9c0b58a8ef21da\n"
     ]
    }
   ],
   "source": [
    "%%bash\n",
    "git write-tree"
   ]
  },
  {
   "cell_type": "markdown",
   "metadata": {},
   "source": [
    "The above command writes the Git index (which contains your blob or 'test.txt') out to a tree object.\n",
    "\n",
    "We go back into `.git/objects/ and see that there is a new sub-directory with the first 2 characters of the tree object's hash."
   ]
  },
  {
   "cell_type": "code",
   "execution_count": 42,
   "metadata": {},
   "outputs": [
    {
     "name": "stdout",
     "output_type": "stream",
     "text": [
      "80\n",
      "d6\n",
      "info\n",
      "pack\n"
     ]
    }
   ],
   "source": [
    "%%bash\n",
    "cd .git/objects\n",
    "ls"
   ]
  },
  {
   "cell_type": "markdown",
   "metadata": {},
   "source": [
    "We compare the contents of the (a) blob and (b) tree.\n",
    "\n",
    "In the output, we see that:\n",
    "- the blob just ouputs the content of 'test.txt', whereas\n",
    "- the tree points to blobs."
   ]
  },
  {
   "cell_type": "code",
   "execution_count": 43,
   "metadata": {},
   "outputs": [
    {
     "name": "stdout",
     "output_type": "stream",
     "text": [
      "test content\n",
      "100644 blob d670460b4b4aece5915caf5c68d12f560a9fe3e4\ttest.txt\n"
     ]
    }
   ],
   "source": [
    "%%bash\n",
    "git cat-file -p d670460b4b4aece5915caf5c68d12f560a9fe3e4\n",
    "git cat-file -p 80865964295ae2f11d27383e5f9c0b58a8ef21da"
   ]
  },
  {
   "cell_type": "code",
   "execution_count": 44,
   "metadata": {},
   "outputs": [
    {
     "name": "stdout",
     "output_type": "stream",
     "text": [
      "test.txt\n"
     ]
    }
   ],
   "source": [
    "%%bash\n",
    "git ls-files"
   ]
  },
  {
   "cell_type": "markdown",
   "metadata": {},
   "source": [
    "Let's expand this tree. It's sad if it has just 1 object.\n",
    "\n",
    "So, we:\n",
    "1. Create another object called 'new.txt' with content 'new file', and add it to the index, then\n",
    "2. Run `git write-tree`."
   ]
  },
  {
   "cell_type": "code",
   "execution_count": 45,
   "metadata": {},
   "outputs": [
    {
     "name": "stdout",
     "output_type": "stream",
     "text": [
      "21ffec6dd9d7f64d4c693ea205a65905ba1bb41b\n"
     ]
    }
   ],
   "source": [
    "%%bash\n",
    "echo 'new file' > new.txt\n",
    "git update-index --add new.txt\n",
    "git write-tree"
   ]
  },
  {
   "cell_type": "markdown",
   "metadata": {},
   "source": [
    "Let's examine what's in this new tree object."
   ]
  },
  {
   "cell_type": "code",
   "execution_count": 46,
   "metadata": {},
   "outputs": [
    {
     "name": "stdout",
     "output_type": "stream",
     "text": [
      "100644 blob fa49b077972391ad58037050f2a75f74e3671e92\tnew.txt\n",
      "100644 blob d670460b4b4aece5915caf5c68d12f560a9fe3e4\ttest.txt\n"
     ]
    }
   ],
   "source": [
    "%%bash\n",
    "git cat-file -p 21ffec6dd9d7f64d4c693ea205a65905ba1bb41b"
   ]
  },
  {
   "cell_type": "markdown",
   "metadata": {},
   "source": [
    "Hooray, the tree is less sad."
   ]
  },
  {
   "cell_type": "markdown",
   "metadata": {},
   "source": [
    "# Finally, commit objects\n",
    "\n",
    "Recall each branch (which are ref objects) point to a commit.\n",
    "\n",
    "We have a tree object and a blob in our Git index. Now, we create a commit object.\n",
    "\n",
    "*Note 1: If you get an error message about user.name not being set, just run this command in a cell with the bash magic `git config user.name 'foo_user'`. This includes a user.name just for this repo.*\n",
    "\n",
    "*Note 2: If you run the following cell multiple times, you will actually create multiple commit objects, with the same messages. You can delete these commit objects by going to `.git/objects/` and removing the sub-directories.*"
   ]
  },
  {
   "cell_type": "code",
   "execution_count": 48,
   "metadata": {},
   "outputs": [],
   "source": [
    "%%bash\n",
    "git config user.name foo_user"
   ]
  },
  {
   "cell_type": "code",
   "execution_count": 49,
   "metadata": {},
   "outputs": [
    {
     "name": "stdout",
     "output_type": "stream",
     "text": [
      "e79ecc9a42b5d49e7ce9f7fcf04788f148f8e429\n"
     ]
    }
   ],
   "source": [
    "%%bash\n",
    "echo 'first commit' | git commit-tree 21ffec6dd9d7f64d4c693ea205a65905ba1bb41b"
   ]
  },
  {
   "cell_type": "markdown",
   "metadata": {},
   "source": [
    "So now, we have a commit object pointing to a blob. Recall that a commit object is *also* able to point to another commit object as its child, to create a chain of commits that go into the Git log.\n",
    "\n",
    "To achieve this, we go with `git commit-tree <hash of tree> -p <hash of child>`."
   ]
  },
  {
   "cell_type": "code",
   "execution_count": null,
   "metadata": {},
   "outputs": [],
   "source": [
    "%%bash\n",
    "cd .git/objects\n",
    "ls"
   ]
  }
 ],
 "metadata": {
  "kernelspec": {
   "display_name": "Python 3",
   "language": "python",
   "name": "python3"
  },
  "language_info": {
   "codemirror_mode": {
    "name": "ipython",
    "version": 3
   },
   "file_extension": ".py",
   "mimetype": "text/x-python",
   "name": "python",
   "nbconvert_exporter": "python",
   "pygments_lexer": "ipython3",
   "version": "3.7.6"
  }
 },
 "nbformat": 4,
 "nbformat_minor": 4
}
